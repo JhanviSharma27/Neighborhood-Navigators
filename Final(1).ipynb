{
 "cells": [
  {
   "cell_type": "markdown",
   "metadata": {},
   "source": [
    "Team name: Neighborhood Navigators\n",
    "Jhanvi Sharma - jhs92@pitt.edu\n",
    "Seamus Quigley - sjq6@pitt.edu\n",
    "Kace Martinez - kam793@pitt.edu"
   ]
  },
  {
   "cell_type": "markdown",
   "metadata": {},
   "source": [
    "Hey everyone! Our team had the great idea of finding the best neighborhood for a superhero (Batman)! ourobjective was to find the place with the most amount of destruction so that our superhero has a ton crime to fight against. We used the following metrics: \"fire incidents\", \"crime incidents\", and \"Pittsburgh population density\"."
   ]
  },
  {
   "cell_type": "markdown",
   "metadata": {},
   "source": [
    "Below, I am importing the pd and Geopandas.\n",
    "After, we simply read in the csv"
   ]
  },
  {
   "cell_type": "code",
   "execution_count": 1,
   "metadata": {},
   "outputs": [
    {
     "data": {
      "text/html": [
       "<div>\n",
       "<style scoped>\n",
       "    .dataframe tbody tr th:only-of-type {\n",
       "        vertical-align: middle;\n",
       "    }\n",
       "\n",
       "    .dataframe tbody tr th {\n",
       "        vertical-align: top;\n",
       "    }\n",
       "\n",
       "    .dataframe thead th {\n",
       "        text-align: right;\n",
       "    }\n",
       "</style>\n",
       "<table border=\"1\" class=\"dataframe\">\n",
       "  <thead>\n",
       "    <tr style=\"text-align: right;\">\n",
       "      <th></th>\n",
       "      <th>_id</th>\n",
       "      <th>call_no</th>\n",
       "      <th>incident_type</th>\n",
       "      <th>type_description</th>\n",
       "      <th>address</th>\n",
       "      <th>alarms</th>\n",
       "      <th>alarm_time</th>\n",
       "      <th>primary_unit</th>\n",
       "      <th>census_tract</th>\n",
       "      <th>neighborhood</th>\n",
       "      <th>council_district</th>\n",
       "      <th>ward</th>\n",
       "      <th>tract</th>\n",
       "      <th>public_works_division</th>\n",
       "      <th>pli_division</th>\n",
       "      <th>police_zone</th>\n",
       "      <th>fire_zone</th>\n",
       "      <th>latitude</th>\n",
       "      <th>longitude</th>\n",
       "    </tr>\n",
       "  </thead>\n",
       "  <tbody>\n",
       "    <tr>\n",
       "      <th>0</th>\n",
       "      <td>1</td>\n",
       "      <td>F160029985</td>\n",
       "      <td>111.0</td>\n",
       "      <td>Building fire</td>\n",
       "      <td>800 BLOCK CENTER ST, WILKINSBURG PA 15221</td>\n",
       "      <td>1</td>\n",
       "      <td>2016-04-21T05:01:04</td>\n",
       "      <td>231EN16</td>\n",
       "      <td>NaN</td>\n",
       "      <td>NaN</td>\n",
       "      <td>NaN</td>\n",
       "      <td>NaN</td>\n",
       "      <td>4.200356e+10</td>\n",
       "      <td>NaN</td>\n",
       "      <td>NaN</td>\n",
       "      <td>NaN</td>\n",
       "      <td>3-16</td>\n",
       "      <td>40.441275</td>\n",
       "      <td>-79.882485</td>\n",
       "    </tr>\n",
       "    <tr>\n",
       "      <th>1</th>\n",
       "      <td>2</td>\n",
       "      <td>F180022058</td>\n",
       "      <td>111.0</td>\n",
       "      <td>Building fire</td>\n",
       "      <td>1100 BLOCK JANE ST, WILKINSBURG PA 15221</td>\n",
       "      <td>1</td>\n",
       "      <td>2018-03-13T08:34:43</td>\n",
       "      <td>231EN16</td>\n",
       "      <td>NaN</td>\n",
       "      <td>NaN</td>\n",
       "      <td>NaN</td>\n",
       "      <td>NaN</td>\n",
       "      <td>4.200356e+10</td>\n",
       "      <td>NaN</td>\n",
       "      <td>NaN</td>\n",
       "      <td>NaN</td>\n",
       "      <td>3-21</td>\n",
       "      <td>40.436342</td>\n",
       "      <td>-79.881003</td>\n",
       "    </tr>\n",
       "    <tr>\n",
       "      <th>2</th>\n",
       "      <td>3</td>\n",
       "      <td>F180022102</td>\n",
       "      <td>131.0</td>\n",
       "      <td>Passenger vehicle fire</td>\n",
       "      <td>SB STATE HWY 28 SB AT 31S, PITTSBURGH PA 15212</td>\n",
       "      <td>0</td>\n",
       "      <td>2018-03-13T11:54:23</td>\n",
       "      <td>231EN32</td>\n",
       "      <td>2406.0</td>\n",
       "      <td>NaN</td>\n",
       "      <td>NaN</td>\n",
       "      <td>NaN</td>\n",
       "      <td>NaN</td>\n",
       "      <td>NaN</td>\n",
       "      <td>NaN</td>\n",
       "      <td>NaN</td>\n",
       "      <td>1-1A</td>\n",
       "      <td>NaN</td>\n",
       "      <td>NaN</td>\n",
       "    </tr>\n",
       "    <tr>\n",
       "      <th>3</th>\n",
       "      <td>4</td>\n",
       "      <td>F170043431</td>\n",
       "      <td>131.0</td>\n",
       "      <td>Passenger vehicle fire</td>\n",
       "      <td>1700 BLOCK BELLEAU DR, PITTSBURGH PA 15212</td>\n",
       "      <td>0</td>\n",
       "      <td>2017-05-31T08:39:47</td>\n",
       "      <td>231EN38</td>\n",
       "      <td>2509.0</td>\n",
       "      <td>Fineview</td>\n",
       "      <td>6.0</td>\n",
       "      <td>25.0</td>\n",
       "      <td>4.200325e+10</td>\n",
       "      <td>1.0</td>\n",
       "      <td>25.0</td>\n",
       "      <td>1.0</td>\n",
       "      <td>1-10</td>\n",
       "      <td>40.460303</td>\n",
       "      <td>-80.006980</td>\n",
       "    </tr>\n",
       "    <tr>\n",
       "      <th>4</th>\n",
       "      <td>5</td>\n",
       "      <td>F180021111</td>\n",
       "      <td>111.0</td>\n",
       "      <td>Building fire</td>\n",
       "      <td>2400 BLOCK VILLAGE RD, PITTSBURGH PA 15205</td>\n",
       "      <td>1</td>\n",
       "      <td>2018-03-09T10:26:42</td>\n",
       "      <td>231EN31</td>\n",
       "      <td>2808.0</td>\n",
       "      <td>Fairywood</td>\n",
       "      <td>2.0</td>\n",
       "      <td>28.0</td>\n",
       "      <td>4.200356e+10</td>\n",
       "      <td>5.0</td>\n",
       "      <td>28.0</td>\n",
       "      <td>6.0</td>\n",
       "      <td>1-16</td>\n",
       "      <td>40.449009</td>\n",
       "      <td>-80.076607</td>\n",
       "    </tr>\n",
       "    <tr>\n",
       "      <th>...</th>\n",
       "      <td>...</td>\n",
       "      <td>...</td>\n",
       "      <td>...</td>\n",
       "      <td>...</td>\n",
       "      <td>...</td>\n",
       "      <td>...</td>\n",
       "      <td>...</td>\n",
       "      <td>...</td>\n",
       "      <td>...</td>\n",
       "      <td>...</td>\n",
       "      <td>...</td>\n",
       "      <td>...</td>\n",
       "      <td>...</td>\n",
       "      <td>...</td>\n",
       "      <td>...</td>\n",
       "      <td>...</td>\n",
       "      <td>...</td>\n",
       "      <td>...</td>\n",
       "      <td>...</td>\n",
       "    </tr>\n",
       "    <tr>\n",
       "      <th>9774</th>\n",
       "      <td>12575</td>\n",
       "      <td>F240027649</td>\n",
       "      <td>150.0</td>\n",
       "      <td>Outside rubbish fire, Other</td>\n",
       "      <td>1700 BLOCK DAGMAR AVE, PITTSBURGH PA</td>\n",
       "      <td>0</td>\n",
       "      <td>2024-04-02T13:54:21</td>\n",
       "      <td>231EN28</td>\n",
       "      <td>1920.0</td>\n",
       "      <td>Beechview</td>\n",
       "      <td>4.0</td>\n",
       "      <td>19.0</td>\n",
       "      <td>4.200319e+10</td>\n",
       "      <td>5.0</td>\n",
       "      <td>19.0</td>\n",
       "      <td>6.0</td>\n",
       "      <td>4-28</td>\n",
       "      <td>40.408709</td>\n",
       "      <td>-80.022745</td>\n",
       "    </tr>\n",
       "    <tr>\n",
       "      <th>9775</th>\n",
       "      <td>12607</td>\n",
       "      <td>F240026921</td>\n",
       "      <td>111.0</td>\n",
       "      <td>Building fire</td>\n",
       "      <td>00 BLOCK MILES AVE ING, INGRAM PA</td>\n",
       "      <td>2</td>\n",
       "      <td>2024-03-31T06:33:31</td>\n",
       "      <td>231EN31</td>\n",
       "      <td>NaN</td>\n",
       "      <td>NaN</td>\n",
       "      <td>NaN</td>\n",
       "      <td>NaN</td>\n",
       "      <td>NaN</td>\n",
       "      <td>NaN</td>\n",
       "      <td>NaN</td>\n",
       "      <td>NaN</td>\n",
       "      <td>1-16A</td>\n",
       "      <td>NaN</td>\n",
       "      <td>NaN</td>\n",
       "    </tr>\n",
       "    <tr>\n",
       "      <th>9776</th>\n",
       "      <td>12608</td>\n",
       "      <td>F240027382</td>\n",
       "      <td>154.0</td>\n",
       "      <td>Dumpster or other outside trash receptacle fire</td>\n",
       "      <td>5500 BLOCK 5TH AVE, PITTSBURGH PA</td>\n",
       "      <td>0</td>\n",
       "      <td>2024-04-01T23:36:09</td>\n",
       "      <td>231EN18</td>\n",
       "      <td>1402.0</td>\n",
       "      <td>Shadyside</td>\n",
       "      <td>8.0</td>\n",
       "      <td>7.0</td>\n",
       "      <td>4.200307e+10</td>\n",
       "      <td>2.0</td>\n",
       "      <td>7.0</td>\n",
       "      <td>4.0</td>\n",
       "      <td>2-17</td>\n",
       "      <td>40.448944</td>\n",
       "      <td>-79.932527</td>\n",
       "    </tr>\n",
       "    <tr>\n",
       "      <th>9777</th>\n",
       "      <td>12609</td>\n",
       "      <td>F240028205</td>\n",
       "      <td>150.0</td>\n",
       "      <td>Outside rubbish fire, Other</td>\n",
       "      <td>2700 BLOCK JANE ST, PITTSBURGH PA 15120</td>\n",
       "      <td>0</td>\n",
       "      <td>2024-04-03T19:21:30</td>\n",
       "      <td>231EN24</td>\n",
       "      <td>1609.0</td>\n",
       "      <td>South Side Flats</td>\n",
       "      <td>3.0</td>\n",
       "      <td>16.0</td>\n",
       "      <td>4.200316e+10</td>\n",
       "      <td>3.0</td>\n",
       "      <td>16.0</td>\n",
       "      <td>3.0</td>\n",
       "      <td>4-24</td>\n",
       "      <td>40.425230</td>\n",
       "      <td>-79.967811</td>\n",
       "    </tr>\n",
       "    <tr>\n",
       "      <th>9778</th>\n",
       "      <td>12610</td>\n",
       "      <td>F240027133</td>\n",
       "      <td>154.0</td>\n",
       "      <td>Dumpster or other outside trash receptacle fire</td>\n",
       "      <td>5500 BLOCK COVODE ST, PITTSBURGH PA</td>\n",
       "      <td>0</td>\n",
       "      <td>2024-04-01T01:18:27</td>\n",
       "      <td>231EN18</td>\n",
       "      <td>1413.0</td>\n",
       "      <td>Squirrel Hill South</td>\n",
       "      <td>5.0</td>\n",
       "      <td>14.0</td>\n",
       "      <td>4.200314e+10</td>\n",
       "      <td>3.0</td>\n",
       "      <td>14.0</td>\n",
       "      <td>4.0</td>\n",
       "      <td>2-21</td>\n",
       "      <td>40.431309</td>\n",
       "      <td>-79.930286</td>\n",
       "    </tr>\n",
       "  </tbody>\n",
       "</table>\n",
       "<p>9779 rows × 19 columns</p>\n",
       "</div>"
      ],
      "text/plain": [
       "        _id     call_no  incident_type  \\\n",
       "0         1  F160029985          111.0   \n",
       "1         2  F180022058          111.0   \n",
       "2         3  F180022102          131.0   \n",
       "3         4  F170043431          131.0   \n",
       "4         5  F180021111          111.0   \n",
       "...     ...         ...            ...   \n",
       "9774  12575  F240027649          150.0   \n",
       "9775  12607  F240026921          111.0   \n",
       "9776  12608  F240027382          154.0   \n",
       "9777  12609  F240028205          150.0   \n",
       "9778  12610  F240027133          154.0   \n",
       "\n",
       "                                     type_description  \\\n",
       "0                                       Building fire   \n",
       "1                                       Building fire   \n",
       "2                              Passenger vehicle fire   \n",
       "3                              Passenger vehicle fire   \n",
       "4                                       Building fire   \n",
       "...                                               ...   \n",
       "9774                      Outside rubbish fire, Other   \n",
       "9775                                    Building fire   \n",
       "9776  Dumpster or other outside trash receptacle fire   \n",
       "9777                      Outside rubbish fire, Other   \n",
       "9778  Dumpster or other outside trash receptacle fire   \n",
       "\n",
       "                                             address  alarms  \\\n",
       "0          800 BLOCK CENTER ST, WILKINSBURG PA 15221       1   \n",
       "1           1100 BLOCK JANE ST, WILKINSBURG PA 15221       1   \n",
       "2     SB STATE HWY 28 SB AT 31S, PITTSBURGH PA 15212       0   \n",
       "3         1700 BLOCK BELLEAU DR, PITTSBURGH PA 15212       0   \n",
       "4         2400 BLOCK VILLAGE RD, PITTSBURGH PA 15205       1   \n",
       "...                                              ...     ...   \n",
       "9774            1700 BLOCK DAGMAR AVE, PITTSBURGH PA       0   \n",
       "9775               00 BLOCK MILES AVE ING, INGRAM PA       2   \n",
       "9776               5500 BLOCK 5TH AVE, PITTSBURGH PA       0   \n",
       "9777         2700 BLOCK JANE ST, PITTSBURGH PA 15120       0   \n",
       "9778             5500 BLOCK COVODE ST, PITTSBURGH PA       0   \n",
       "\n",
       "               alarm_time primary_unit  census_tract         neighborhood  \\\n",
       "0     2016-04-21T05:01:04      231EN16           NaN                  NaN   \n",
       "1     2018-03-13T08:34:43      231EN16           NaN                  NaN   \n",
       "2     2018-03-13T11:54:23      231EN32        2406.0                  NaN   \n",
       "3     2017-05-31T08:39:47      231EN38        2509.0             Fineview   \n",
       "4     2018-03-09T10:26:42      231EN31        2808.0            Fairywood   \n",
       "...                   ...          ...           ...                  ...   \n",
       "9774  2024-04-02T13:54:21      231EN28        1920.0            Beechview   \n",
       "9775  2024-03-31T06:33:31      231EN31           NaN                  NaN   \n",
       "9776  2024-04-01T23:36:09      231EN18        1402.0            Shadyside   \n",
       "9777  2024-04-03T19:21:30      231EN24        1609.0     South Side Flats   \n",
       "9778  2024-04-01T01:18:27      231EN18        1413.0  Squirrel Hill South   \n",
       "\n",
       "      council_district  ward         tract  public_works_division  \\\n",
       "0                  NaN   NaN  4.200356e+10                    NaN   \n",
       "1                  NaN   NaN  4.200356e+10                    NaN   \n",
       "2                  NaN   NaN           NaN                    NaN   \n",
       "3                  6.0  25.0  4.200325e+10                    1.0   \n",
       "4                  2.0  28.0  4.200356e+10                    5.0   \n",
       "...                ...   ...           ...                    ...   \n",
       "9774               4.0  19.0  4.200319e+10                    5.0   \n",
       "9775               NaN   NaN           NaN                    NaN   \n",
       "9776               8.0   7.0  4.200307e+10                    2.0   \n",
       "9777               3.0  16.0  4.200316e+10                    3.0   \n",
       "9778               5.0  14.0  4.200314e+10                    3.0   \n",
       "\n",
       "      pli_division  police_zone fire_zone   latitude  longitude  \n",
       "0              NaN          NaN      3-16  40.441275 -79.882485  \n",
       "1              NaN          NaN      3-21  40.436342 -79.881003  \n",
       "2              NaN          NaN      1-1A        NaN        NaN  \n",
       "3             25.0          1.0      1-10  40.460303 -80.006980  \n",
       "4             28.0          6.0      1-16  40.449009 -80.076607  \n",
       "...            ...          ...       ...        ...        ...  \n",
       "9774          19.0          6.0      4-28  40.408709 -80.022745  \n",
       "9775           NaN          NaN     1-16A        NaN        NaN  \n",
       "9776           7.0          4.0      2-17  40.448944 -79.932527  \n",
       "9777          16.0          3.0      4-24  40.425230 -79.967811  \n",
       "9778          14.0          4.0      2-21  40.431309 -79.930286  \n",
       "\n",
       "[9779 rows x 19 columns]"
      ]
     },
     "execution_count": 1,
     "metadata": {},
     "output_type": "execute_result"
    }
   ],
   "source": [
    "import pandas as pd\n",
    "import geopandas\n",
    "url = \"8d76ac6b-5ae8-4428-82a4-043130d17b02.csv\"\n",
    "df = pd.read_csv(url)\n",
    "df"
   ]
  },
  {
   "cell_type": "markdown",
   "metadata": {},
   "source": [
    "For simplified analysis, we group th data by the \"neighborhood\" column. We are interested in the counted of id within each neighborhood. We are just calculating the number of occurances of \"_id\" within the data frame."
   ]
  },
  {
   "cell_type": "code",
   "execution_count": 2,
   "metadata": {},
   "outputs": [
    {
     "data": {
      "text/plain": [
       "neighborhood\n",
       "Allegheny Center        62\n",
       "Allegheny West          43\n",
       "Allentown              127\n",
       "Arlington               51\n",
       "Arlington Heights       13\n",
       "                      ... \n",
       "Upper Lawrenceville     52\n",
       "West End                23\n",
       "West Oakland            62\n",
       "Westwood                28\n",
       "Windgap                 23\n",
       "Name: _id, Length: 91, dtype: int64"
      ]
     },
     "execution_count": 2,
     "metadata": {},
     "output_type": "execute_result"
    }
   ],
   "source": [
    "df_grouped = df.groupby(\"neighborhood\").count()[\"_id\"]\n",
    "df_grouped = df_grouped.dropna()\n",
    "df_grouped"
   ]
  },
  {
   "cell_type": "markdown",
   "metadata": {},
   "source": [
    "Now we will use geopandas to read in the csv that is provided to us. "
   ]
  },
  {
   "cell_type": "code",
   "execution_count": 3,
   "metadata": {},
   "outputs": [],
   "source": [
    "#df_grouped = df_grouped.set_index(\"_id\")\n",
    "#df_grouped.index = pd.to_datetime(df_grouped.index)\n",
    "#merged_data = pd.merge(df_grouped, hood, left_on = \"_id\")\n",
    "neighborhoods = geopandas.read_file(\"Neighborhoods/Neighborhoods_.shp\")"
   ]
  },
  {
   "cell_type": "markdown",
   "metadata": {},
   "source": [
    "We are now merging the neighborhoods data frame with our data frame. how= left means a left join, meaning all rows from \"neighborhoods\". lefton=\"hood\" means this is the key column for the merge and righton = \"neighborhood\" uses the colum fron df_grouped."
   ]
  },
  {
   "cell_type": "code",
   "execution_count": 4,
   "metadata": {},
   "outputs": [],
   "source": [
    "steps_map = neighborhoods.merge(df_grouped, how='left', left_on='hood', right_on='neighborhood')"
   ]
  },
  {
   "cell_type": "markdown",
   "metadata": {},
   "source": [
    "Geospatial visualization, where each neighborhood or area represented in the DataFrame is plotted according to the values in the _id column. "
   ]
  },
  {
   "cell_type": "code",
   "execution_count": 5,
   "metadata": {},
   "outputs": [
    {
     "data": {
      "text/plain": [
       "<matplotlib.axes._subplots.AxesSubplot at 0x7fa44664f640>"
      ]
     },
     "execution_count": 5,
     "metadata": {},
     "output_type": "execute_result"
    },
    {
     "data": {
      "image/png": "[encoded data removed]",
      "text/plain": [
       "<Figure size 432x288 with 1 Axes>"
      ]
     },
     "metadata": {
      "needs_background": "light"
     },
     "output_type": "display_data"
    }
   ],
   "source": [
    "steps_map.head()\n",
    "steps_map.sort_values(\"_id\")\n",
    "steps_map.plot(column=\"_id\") #.bar( x=\"hood\", y=\"_id\")"
   ]
  },
  {
   "cell_type": "markdown",
   "metadata": {},
   "source": [
    "Heat map:\n",
    "The greater the quantity of fires, the darker the color on the map.\n"
   ]
  },
  {
   "cell_type": "code",
   "execution_count": 6,
   "metadata": {},
   "outputs": [
    {
     "data": {
      "text/plain": [
       "<matplotlib.axes._subplots.AxesSubplot at 0x7fa445de6970>"
      ]
     },
     "execution_count": 6,
     "metadata": {},
     "output_type": "execute_result"
    },
    {
     "data": {
      "image/png": "[encoded data removed]",
      "text/plain": [
       "<Figure size 1080x720 with 2 Axes>"
      ]
     },
     "metadata": {
      "needs_background": "light"
     },
     "output_type": "display_data"
    }
   ],
   "source": [
    "steps_map.plot(column='_id', # set the data to be used for coloring\n",
    "               cmap='OrRd' , edgecolor=\"white\",        # outline the districts in white\n",
    "               legend=True,\n",
    "               # label the legend\n",
    "               figsize=(15, 10)        # set the size\n",
    "              \n",
    "               # choose a color palette\n",
    "               )"
   ]
  },
  {
   "cell_type": "markdown",
   "metadata": {},
   "source": [
    "Simplfies the data, only depicting the hood and _id colummns in a dataframe."
   ]
  },
  {
   "cell_type": "code",
   "execution_count": 7,
   "metadata": {},
   "outputs": [
    {
     "data": {
      "text/html": [
       "<div>\n",
       "<style scoped>\n",
       "    .dataframe tbody tr th:only-of-type {\n",
       "        vertical-align: middle;\n",
       "    }\n",
       "\n",
       "    .dataframe tbody tr th {\n",
       "        vertical-align: top;\n",
       "    }\n",
       "\n",
       "    .dataframe thead th {\n",
       "        text-align: right;\n",
       "    }\n",
       "</style>\n",
       "<table border=\"1\" class=\"dataframe\">\n",
       "  <thead>\n",
       "    <tr style=\"text-align: right;\">\n",
       "      <th></th>\n",
       "      <th>hood</th>\n",
       "      <th>_id</th>\n",
       "    </tr>\n",
       "  </thead>\n",
       "  <tbody>\n",
       "    <tr>\n",
       "      <th>32</th>\n",
       "      <td>Carrick</td>\n",
       "      <td>289</td>\n",
       "    </tr>\n",
       "    <tr>\n",
       "      <th>5</th>\n",
       "      <td>Central Business District</td>\n",
       "      <td>274</td>\n",
       "    </tr>\n",
       "    <tr>\n",
       "      <th>13</th>\n",
       "      <td>South Side Flats</td>\n",
       "      <td>270</td>\n",
       "    </tr>\n",
       "    <tr>\n",
       "      <th>24</th>\n",
       "      <td>Squirrel Hill South</td>\n",
       "      <td>256</td>\n",
       "    </tr>\n",
       "    <tr>\n",
       "      <th>18</th>\n",
       "      <td>Hazelwood</td>\n",
       "      <td>249</td>\n",
       "    </tr>\n",
       "  </tbody>\n",
       "</table>\n",
       "</div>"
      ],
      "text/plain": [
       "                         hood  _id\n",
       "32                    Carrick  289\n",
       "5   Central Business District  274\n",
       "13           South Side Flats  270\n",
       "24        Squirrel Hill South  256\n",
       "18                  Hazelwood  249"
      ]
     },
     "execution_count": 7,
     "metadata": {},
     "output_type": "execute_result"
    }
   ],
   "source": [
    "steps_map.sort_values(\"_id\", ascending = False)[[\"hood\", \"_id\"]].head()"
   ]
  },
  {
   "cell_type": "markdown",
   "metadata": {},
   "source": [
    "Below is a bar graph showcasing the above values."
   ]
  },
  {
   "cell_type": "code",
   "execution_count": 8,
   "metadata": {},
   "outputs": [
    {
     "name": "stderr",
     "output_type": "stream",
     "text": [
      "/opt/tljh/user/lib/python3.8/site-packages/pandas/plotting/_matplotlib/core.py:677: UserWarning: The handle <BarContainer object of 5 artists> has a label of '_id' which cannot be automatically added to the legend.\n",
      "  ax.legend(handles, labels, loc=\"best\", title=title)\n"
     ]
    },
    {
     "data": {
      "text/plain": [
       "<matplotlib.axes._subplots.AxesSubplot at 0x7fa4458a9610>"
      ]
     },
     "execution_count": 8,
     "metadata": {},
     "output_type": "execute_result"
    },
    {
     "data": {
      "image/png": "[encoded data removed]",
      "text/plain": [
       "<Figure size 432x288 with 1 Axes>"
      ]
     },
     "metadata": {
      "needs_background": "light"
     },
     "output_type": "display_data"
    }
   ],
   "source": [
    "steps_map.sort_values(\"_id\", ascending = False)[[\"hood\", \"_id\"]].head(5).plot(kind=\"bar\", x=\"hood\")"
   ]
  },
  {
   "cell_type": "markdown",
   "metadata": {},
   "source": [
    "Overall, after filtering a and sorting this database on the fire incidents, I can conclude that the best neighborhood for a superhero would be Carrick. Carrick has has the most fires, and therefore gives our superhero the most amount of danger to fight against!"
   ]
  },
  {
   "cell_type": "markdown",
   "metadata": {},
   "source": [
    "# Crime Incidents"
   ]
  },
  {
   "cell_type": "markdown",
   "metadata": {},
   "source": [
    "by: Seamus Quigley, SJQ6@pitt.edu"
   ]
  },
  {
   "cell_type": "markdown",
   "metadata": {},
   "source": [
    "Batman needs lots of villains to fight so this notebook will be looking at crime incidents reported in Pittsburgh!"
   ]
  },
  {
   "cell_type": "markdown",
   "metadata": {},
   "source": [
    "First im going to import pandas into this notebook.\n"
   ]
  },
  {
   "cell_type": "code",
   "execution_count": 9,
   "metadata": {},
   "outputs": [],
   "source": [
    "import pandas as pd\n",
    "# imports pandas library"
   ]
  },
  {
   "cell_type": "markdown",
   "metadata": {},
   "source": [
    "read in the file, and drop all rows that return null."
   ]
  },
  {
   "cell_type": "code",
   "execution_count": 10,
   "metadata": {},
   "outputs": [],
   "source": [
    "crime = pd.read_csv('crime.csv')\n",
    "# Drop the missing values rows\n",
    "crime = crime.dropna()\n"
   ]
  },
  {
   "cell_type": "markdown",
   "metadata": {},
   "source": [
    "this filters out incident neighborhoods that do not have a lot of information and prints a smaller sample size of the total csv file. "
   ]
  },
  {
   "cell_type": "code",
   "execution_count": 11,
   "metadata": {},
   "outputs": [
    {
     "data": {
      "text/html": [
       "<div>\n",
       "<style scoped>\n",
       "    .dataframe tbody tr th:only-of-type {\n",
       "        vertical-align: middle;\n",
       "    }\n",
       "\n",
       "    .dataframe tbody tr th {\n",
       "        vertical-align: top;\n",
       "    }\n",
       "\n",
       "    .dataframe thead th {\n",
       "        text-align: right;\n",
       "    }\n",
       "</style>\n",
       "<table border=\"1\" class=\"dataframe\">\n",
       "  <thead>\n",
       "    <tr style=\"text-align: right;\">\n",
       "      <th></th>\n",
       "      <th>_id</th>\n",
       "      <th>PK</th>\n",
       "      <th>CCR</th>\n",
       "      <th>HIERARCHY</th>\n",
       "      <th>INCIDENTTIME</th>\n",
       "      <th>INCIDENTLOCATION</th>\n",
       "      <th>CLEAREDFLAG</th>\n",
       "      <th>INCIDENTNEIGHBORHOOD</th>\n",
       "      <th>INCIDENTZONE</th>\n",
       "      <th>INCIDENTHIERARCHYDESC</th>\n",
       "      <th>OFFENSES</th>\n",
       "      <th>INCIDENTTRACT</th>\n",
       "      <th>COUNCIL_DISTRICT</th>\n",
       "      <th>PUBLIC_WORKS_DIVISION</th>\n",
       "      <th>X</th>\n",
       "      <th>Y</th>\n",
       "    </tr>\n",
       "  </thead>\n",
       "  <tbody>\n",
       "    <tr>\n",
       "      <th>0</th>\n",
       "      <td>1</td>\n",
       "      <td>2802309</td>\n",
       "      <td>16000001.0</td>\n",
       "      <td>10</td>\n",
       "      <td>2016-01-01T00:00:00</td>\n",
       "      <td>400 Block North Shore DR Pittsburgh, PA 15212</td>\n",
       "      <td>Y</td>\n",
       "      <td>North Shore</td>\n",
       "      <td>1</td>\n",
       "      <td>HARRASSMENT/THREAT/ATTEMPT/PHY</td>\n",
       "      <td>2702 Aggravated Assault. / 2709(a) Harassment....</td>\n",
       "      <td>2205.0</td>\n",
       "      <td>1.0</td>\n",
       "      <td>6.0</td>\n",
       "      <td>-80.012337</td>\n",
       "      <td>40.446263</td>\n",
       "    </tr>\n",
       "    <tr>\n",
       "      <th>2</th>\n",
       "      <td>3</td>\n",
       "      <td>2801809</td>\n",
       "      <td>16000367.0</td>\n",
       "      <td>4</td>\n",
       "      <td>2016-01-01T00:10:00</td>\n",
       "      <td>500 Block Mt Pleasant RD Pittsburgh, PA 15214</td>\n",
       "      <td>N</td>\n",
       "      <td>Northview Heights</td>\n",
       "      <td>1</td>\n",
       "      <td>DISCHARGE OF FIREARM INTO OCC.STRUCTURE</td>\n",
       "      <td>2707.1 Discharge of a Firearm into Occupied St...</td>\n",
       "      <td>2609.0</td>\n",
       "      <td>1.0</td>\n",
       "      <td>1.0</td>\n",
       "      <td>-80.000966</td>\n",
       "      <td>40.478651</td>\n",
       "    </tr>\n",
       "    <tr>\n",
       "      <th>3</th>\n",
       "      <td>4</td>\n",
       "      <td>2802315</td>\n",
       "      <td>16000035.0</td>\n",
       "      <td>10</td>\n",
       "      <td>2016-01-01T00:15:00</td>\n",
       "      <td>300 Block Wood ST Pittsburgh, PA 15222</td>\n",
       "      <td>Y</td>\n",
       "      <td>Golden Triangle/Civic Arena</td>\n",
       "      <td>2</td>\n",
       "      <td>HARRASSMENT/THREAT/ATTEMPT/PHY</td>\n",
       "      <td>2709(a)(3) Harassment No Legitimate Purpose</td>\n",
       "      <td>201.0</td>\n",
       "      <td>6.0</td>\n",
       "      <td>6.0</td>\n",
       "      <td>-80.001251</td>\n",
       "      <td>40.438918</td>\n",
       "    </tr>\n",
       "    <tr>\n",
       "      <th>4</th>\n",
       "      <td>5</td>\n",
       "      <td>2802312</td>\n",
       "      <td>16000024.0</td>\n",
       "      <td>4</td>\n",
       "      <td>2016-01-01T00:16:00</td>\n",
       "      <td>500 Block Mt Pleasant RD Pittsburgh, PA 15214</td>\n",
       "      <td>N</td>\n",
       "      <td>Northview Heights</td>\n",
       "      <td>1</td>\n",
       "      <td>PROP MISSILE INTO OCC VEHICLE/OR ROADWAY</td>\n",
       "      <td>2705 Recklessy Endangering Another Person. / 3...</td>\n",
       "      <td>2609.0</td>\n",
       "      <td>1.0</td>\n",
       "      <td>1.0</td>\n",
       "      <td>-80.000966</td>\n",
       "      <td>40.478651</td>\n",
       "    </tr>\n",
       "    <tr>\n",
       "      <th>5</th>\n",
       "      <td>6</td>\n",
       "      <td>2802321</td>\n",
       "      <td>16000045.0</td>\n",
       "      <td>23</td>\n",
       "      <td>2016-01-01T00:24:00</td>\n",
       "      <td>1300 Block E CARSON ST Pittsburgh, PA 15203</td>\n",
       "      <td>Y</td>\n",
       "      <td>South Side Flats</td>\n",
       "      <td>3</td>\n",
       "      <td>PUBLIC DRUNKENESS</td>\n",
       "      <td>5505 Public Drunkenness / 3503.B1I DEF. TRESPA...</td>\n",
       "      <td>1702.0</td>\n",
       "      <td>3.0</td>\n",
       "      <td>4.0</td>\n",
       "      <td>-79.985175</td>\n",
       "      <td>40.428607</td>\n",
       "    </tr>\n",
       "  </tbody>\n",
       "</table>\n",
       "</div>"
      ],
      "text/plain": [
       "   _id       PK         CCR  HIERARCHY         INCIDENTTIME  \\\n",
       "0    1  2802309  16000001.0         10  2016-01-01T00:00:00   \n",
       "2    3  2801809  16000367.0          4  2016-01-01T00:10:00   \n",
       "3    4  2802315  16000035.0         10  2016-01-01T00:15:00   \n",
       "4    5  2802312  16000024.0          4  2016-01-01T00:16:00   \n",
       "5    6  2802321  16000045.0         23  2016-01-01T00:24:00   \n",
       "\n",
       "                                INCIDENTLOCATION CLEAREDFLAG  \\\n",
       "0  400 Block North Shore DR Pittsburgh, PA 15212           Y   \n",
       "2  500 Block Mt Pleasant RD Pittsburgh, PA 15214           N   \n",
       "3         300 Block Wood ST Pittsburgh, PA 15222           Y   \n",
       "4  500 Block Mt Pleasant RD Pittsburgh, PA 15214           N   \n",
       "5    1300 Block E CARSON ST Pittsburgh, PA 15203           Y   \n",
       "\n",
       "          INCIDENTNEIGHBORHOOD INCIDENTZONE  \\\n",
       "0                  North Shore            1   \n",
       "2            Northview Heights            1   \n",
       "3  Golden Triangle/Civic Arena            2   \n",
       "4            Northview Heights            1   \n",
       "5             South Side Flats            3   \n",
       "\n",
       "                      INCIDENTHIERARCHYDESC  \\\n",
       "0            HARRASSMENT/THREAT/ATTEMPT/PHY   \n",
       "2   DISCHARGE OF FIREARM INTO OCC.STRUCTURE   \n",
       "3            HARRASSMENT/THREAT/ATTEMPT/PHY   \n",
       "4  PROP MISSILE INTO OCC VEHICLE/OR ROADWAY   \n",
       "5                         PUBLIC DRUNKENESS   \n",
       "\n",
       "                                            OFFENSES  INCIDENTTRACT  \\\n",
       "0  2702 Aggravated Assault. / 2709(a) Harassment....         2205.0   \n",
       "2  2707.1 Discharge of a Firearm into Occupied St...         2609.0   \n",
       "3        2709(a)(3) Harassment No Legitimate Purpose          201.0   \n",
       "4  2705 Recklessy Endangering Another Person. / 3...         2609.0   \n",
       "5  5505 Public Drunkenness / 3503.B1I DEF. TRESPA...         1702.0   \n",
       "\n",
       "   COUNCIL_DISTRICT  PUBLIC_WORKS_DIVISION          X          Y  \n",
       "0               1.0                    6.0 -80.012337  40.446263  \n",
       "2               1.0                    1.0 -80.000966  40.478651  \n",
       "3               6.0                    6.0 -80.001251  40.438918  \n",
       "4               1.0                    1.0 -80.000966  40.478651  \n",
       "5               3.0                    4.0 -79.985175  40.428607  "
      ]
     },
     "execution_count": 11,
     "metadata": {},
     "output_type": "execute_result"
    }
   ],
   "source": [
    "def filter_popular(x, threshold):\n",
    "    return (x['HIERARCHY'].count() >= threshold)\n",
    "\n",
    "\n",
    "popular_crime = crime.groupby(\"INCIDENTNEIGHBORHOOD\").filter(lambda x: x[\"HIERARCHY\"].count() >= 1000)\n",
    "# look at what centers are in the data now\n",
    "popular_crime.groupby(\"INCIDENTNEIGHBORHOOD\").count()\n",
    "popular_crime.head()"
   ]
  },
  {
   "cell_type": "markdown",
   "metadata": {},
   "source": [
    "In crime reports, the crime hierarchy is a ranking (1-99) which represents the severity of the incident, the lower the number the more severe the crime is. "
   ]
  },
  {
   "cell_type": "markdown",
   "metadata": {},
   "source": [
    "This prints out the average hierarchy ranking of all of the neighborhoods."
   ]
  },
  {
   "cell_type": "code",
   "execution_count": 13,
   "metadata": {},
   "outputs": [
    {
     "data": {
      "text/plain": [
       "11.570001722059583"
      ]
     },
     "execution_count": 13,
     "metadata": {},
     "output_type": "execute_result"
    }
   ],
   "source": [
    "crime['HIERARCHY'].mean()"
   ]
  },
  {
   "cell_type": "markdown",
   "metadata": {},
   "source": [
    "This adds up all of the times that a neighborhood is mentioned and prints the top 5 and bottom 5"
   ]
  },
  {
   "cell_type": "code",
   "execution_count": 14,
   "metadata": {},
   "outputs": [
    {
     "data": {
      "text/plain": [
       "South Side Flats             8785\n",
       "Central Business District    5670\n",
       "Carrick                      4589\n",
       "Bloomfield                   3862\n",
       "Shadyside                    3412\n",
       "                             ... \n",
       "Mt. Oliver Neighborhood        77\n",
       "Chartiers City                 75\n",
       "Mt. Oliver Boro                26\n",
       "Outside State                  13\n",
       "Outside County                  4\n",
       "Name: INCIDENTNEIGHBORHOOD, Length: 98, dtype: int64"
      ]
     },
     "execution_count": 14,
     "metadata": {},
     "output_type": "execute_result"
    }
   ],
   "source": [
    "count_neighbor = crime[\"INCIDENTNEIGHBORHOOD\"].value_counts()\n",
    "count_neighbor.sort_values(ascending = False)\n",
    "#this is the good one dont delete"
   ]
  },
  {
   "cell_type": "markdown",
   "metadata": {},
   "source": [
    "According to this data, the South Side Flats is the most dangerous area with 8785 incidents. "
   ]
  },
  {
   "cell_type": "markdown",
   "metadata": {},
   "source": [
    "This is a pie chart of the top 5 neighborhoods with the most crime incidents"
   ]
  },
  {
   "cell_type": "code",
   "execution_count": 15,
   "metadata": {},
   "outputs": [
    {
     "data": {
      "text/plain": [
       "<matplotlib.axes._subplots.AxesSubplot at 0x7fa445835f10>"
      ]
     },
     "execution_count": 15,
     "metadata": {},
     "output_type": "execute_result"
    },
    {
     "data": {
      "image/png": "[encoded data removed]",
      "text/plain": [
       "<Figure size 576x288 with 1 Axes>"
      ]
     },
     "metadata": {},
     "output_type": "display_data"
    }
   ],
   "source": [
    "top_five = count_neighbor.head(5)\n",
    "top_five.plot.pie(subplots=False, figsize=(8, 4))"
   ]
  },
  {
   "cell_type": "markdown",
   "metadata": {},
   "source": [
    "And now a bar graph because those are fun."
   ]
  },
  {
   "cell_type": "code",
   "execution_count": 16,
   "metadata": {},
   "outputs": [
    {
     "data": {
      "text/plain": [
       "<matplotlib.axes._subplots.AxesSubplot at 0x7fa43cb09910>"
      ]
     },
     "execution_count": 16,
     "metadata": {},
     "output_type": "execute_result"
    },
    {
     "data": {
      "image/png": "[encoded data removed]",
      "text/plain": [
       "<Figure size 432x288 with 1 Axes>"
      ]
     },
     "metadata": {
      "needs_background": "light"
     },
     "output_type": "display_data"
    }
   ],
   "source": [
    "top_five.plot.bar(stacked=True, title=\"crime incidents\")"
   ]
  },
  {
   "cell_type": "markdown",
   "metadata": {},
   "source": [
    "Okay now lets get a little more specific, these are the top 5 addresses with the most crime incidents"
   ]
  },
  {
   "cell_type": "code",
   "execution_count": 17,
   "metadata": {},
   "outputs": [
    {
     "data": {
      "text/plain": [
       "<matplotlib.axes._subplots.AxesSubplot at 0x7fa4455ef640>"
      ]
     },
     "execution_count": 17,
     "metadata": {},
     "output_type": "execute_result"
    },
    {
     "data": {
      "image/png": "[encoded data removed]",
      "text/plain": [
       "<Figure size 576x288 with 1 Axes>"
      ]
     },
     "metadata": {},
     "output_type": "display_data"
    }
   ],
   "source": [
    "count_area = crime[\"INCIDENTLOCATION\"].value_counts()\n",
    "count_area.sort_values(ascending = False)\n",
    "top_area = count_area.head(5)\n",
    "top_area.plot.pie(subplots=False, figsize=(8, 4))"
   ]
  },
  {
   "cell_type": "code",
   "execution_count": 18,
   "metadata": {},
   "outputs": [
    {
     "data": {
      "text/plain": [
       "<matplotlib.axes._subplots.AxesSubplot at 0x7fa43f48e430>"
      ]
     },
     "execution_count": 18,
     "metadata": {},
     "output_type": "execute_result"
    },
    {
     "data": {
      "image/png": "[encoded data removed]",
      "text/plain": [
       "<Figure size 432x288 with 1 Axes>"
      ]
     },
     "metadata": {
      "needs_background": "light"
     },
     "output_type": "display_data"
    }
   ],
   "source": [
    "top_area.plot.bar(stacked=True, title=\"crime incidents\")"
   ]
  },
  {
   "cell_type": "markdown",
   "metadata": {},
   "source": [
    "Okay according to this data, the South Side Flats is the most dangerous neighborhood in pittsburgh; so it is the best neighborhood for Batman to be in."
   ]
  },
  {
   "cell_type": "markdown",
   "metadata": {},
   "source": [
    "**Neighborhood Navigators take on Pittsburgh !!!**"
   ]
  },
  {
   "cell_type": "markdown",
   "metadata": {},
   "source": [
    "**Group Members:**\n",
    "    \n",
    "    Seamus Quigley sjq6@pitt.edu\n",
    "    \n",
    "    Kace Martinez kam793@pitt.edu\n",
    "    \n",
    "    Jhanvi Sharma jhs92@pitt.edu"
   ]
  },
  {
   "cell_type": "markdown",
   "metadata": {},
   "source": [
    "**Kace's Ranking: Population Density**"
   ]
  },
  {
   "cell_type": "markdown",
   "metadata": {},
   "source": [
    "For this metric, our reasoning is simple: Densely populated neighborhoods are more prone to crime, disaster, and overall calamity.\n",
    "\n",
    "...in theory at least. "
   ]
  },
  {
   "cell_type": "markdown",
   "metadata": {},
   "source": [
    "![calculations](https://media.giphy.com/media/v1.Y2lkPTc5MGI3NjExdWY3aWNhOHRzdmYzM3NoOWM2NWZuanMzZXNhd2wxb3ZzZWZrOGtnMCZlcD12MV9naWZzX3NlYXJjaCZjdD1n/3o6MbseSY3SjTcjIyc/giphy.gif)"
   ]
  },
  {
   "cell_type": "markdown",
   "metadata": {},
   "source": [
    "Without furtherado, \n",
    "\n",
    "Here are the neighborhoods of Pittsburgh ranked by population density (with work shown, of course)."
   ]
  },
  {
   "cell_type": "markdown",
   "metadata": {},
   "source": [
    "To start off, I used [this data set](https://data.wprdc.org/dataset/pgh/resource/8ac5c768-09ba-43a8-829f-ce4a417d20fb/view/8f31f276-31d5-4925-b8d0-dcfa2f22f28a?state=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) to get the population, population density, and other information from all the neighborhoods in Pittsburgh. Yes, all 90 of them."
   ]
  },
  {
   "cell_type": "code",
   "execution_count": 19,
   "metadata": {},
   "outputs": [],
   "source": [
    "import pandas as pd\n",
    "\n",
    "%matplotlib inline"
   ]
  },
  {
   "cell_type": "code",
   "execution_count": 20,
   "metadata": {},
   "outputs": [
    {
     "data": {
      "text/html": [
       "<div>\n",
       "<style scoped>\n",
       "    .dataframe tbody tr th:only-of-type {\n",
       "        vertical-align: middle;\n",
       "    }\n",
       "\n",
       "    .dataframe tbody tr th {\n",
       "        vertical-align: top;\n",
       "    }\n",
       "\n",
       "    .dataframe thead th {\n",
       "        text-align: right;\n",
       "    }\n",
       "</style>\n",
       "<table border=\"1\" class=\"dataframe\">\n",
       "  <thead>\n",
       "    <tr style=\"text-align: right;\">\n",
       "      <th></th>\n",
       "      <th>_id</th>\n",
       "      <th>Sector #</th>\n",
       "      <th>Pop. 1940</th>\n",
       "      <th>Pop. 1950</th>\n",
       "      <th>Pop. 1960</th>\n",
       "      <th>Pop. 1970</th>\n",
       "      <th>Pop. 1980</th>\n",
       "      <th>Pop. 1990</th>\n",
       "      <th>Pop. 2000</th>\n",
       "      <th>Pop. 2010</th>\n",
       "      <th>...</th>\n",
       "      <th>% Other (2010)</th>\n",
       "      <th>% White (2010)</th>\n",
       "      <th>% 2+ Races (2010)</th>\n",
       "      <th>% Hispanic (of any race) (2010)</th>\n",
       "      <th>% Pop. Age &lt; 5 (2010)</th>\n",
       "      <th>% Pop. Age 5-19 (2010)</th>\n",
       "      <th>% Pop. Age 20-34 (2010)</th>\n",
       "      <th>% Pop. Age 35-59 (2010)</th>\n",
       "      <th>% Pop. Age 60-74 (2010)</th>\n",
       "      <th>% Pop. Age &gt; 75 (2010)</th>\n",
       "    </tr>\n",
       "    <tr>\n",
       "      <th>Neighborhood</th>\n",
       "      <th></th>\n",
       "      <th></th>\n",
       "      <th></th>\n",
       "      <th></th>\n",
       "      <th></th>\n",
       "      <th></th>\n",
       "      <th></th>\n",
       "      <th></th>\n",
       "      <th></th>\n",
       "      <th></th>\n",
       "      <th></th>\n",
       "      <th></th>\n",
       "      <th></th>\n",
       "      <th></th>\n",
       "      <th></th>\n",
       "      <th></th>\n",
       "      <th></th>\n",
       "      <th></th>\n",
       "      <th></th>\n",
       "      <th></th>\n",
       "      <th></th>\n",
       "    </tr>\n",
       "  </thead>\n",
       "  <tbody>\n",
       "    <tr>\n",
       "      <th>Allegheny Center</th>\n",
       "      <td>1</td>\n",
       "      <td>3</td>\n",
       "      <td>4,521</td>\n",
       "      <td>3,862</td>\n",
       "      <td>2,512</td>\n",
       "      <td>632</td>\n",
       "      <td>1,586</td>\n",
       "      <td>1,262</td>\n",
       "      <td>886</td>\n",
       "      <td>933</td>\n",
       "      <td>...</td>\n",
       "      <td>0.64%</td>\n",
       "      <td>40.84%</td>\n",
       "      <td>0.0397</td>\n",
       "      <td>0.029</td>\n",
       "      <td>0.0419</td>\n",
       "      <td>0.2170</td>\n",
       "      <td>0.2757</td>\n",
       "      <td>0.2243</td>\n",
       "      <td>0.1761</td>\n",
       "      <td>0.0650</td>\n",
       "    </tr>\n",
       "    <tr>\n",
       "      <th>Allegheny West</th>\n",
       "      <td>2</td>\n",
       "      <td>3</td>\n",
       "      <td>3,210</td>\n",
       "      <td>3,313</td>\n",
       "      <td>2,170</td>\n",
       "      <td>1,124</td>\n",
       "      <td>820</td>\n",
       "      <td>654</td>\n",
       "      <td>508</td>\n",
       "      <td>462</td>\n",
       "      <td>...</td>\n",
       "      <td>0.65%</td>\n",
       "      <td>76.62%</td>\n",
       "      <td>0.0303</td>\n",
       "      <td>0.028</td>\n",
       "      <td>0.0000</td>\n",
       "      <td>0.0000</td>\n",
       "      <td>0.0837</td>\n",
       "      <td>0.6820</td>\n",
       "      <td>0.1255</td>\n",
       "      <td>0.1088</td>\n",
       "    </tr>\n",
       "    <tr>\n",
       "      <th>Allentown</th>\n",
       "      <td>3</td>\n",
       "      <td>6</td>\n",
       "      <td>8,227</td>\n",
       "      <td>7,487</td>\n",
       "      <td>6,416</td>\n",
       "      <td>5,361</td>\n",
       "      <td>4,292</td>\n",
       "      <td>3,600</td>\n",
       "      <td>3,220</td>\n",
       "      <td>2,500</td>\n",
       "      <td>...</td>\n",
       "      <td>0.80%</td>\n",
       "      <td>59.40%</td>\n",
       "      <td>0.0464</td>\n",
       "      <td>0.023</td>\n",
       "      <td>0.0366</td>\n",
       "      <td>0.1485</td>\n",
       "      <td>0.2411</td>\n",
       "      <td>0.3530</td>\n",
       "      <td>0.1440</td>\n",
       "      <td>0.0767</td>\n",
       "    </tr>\n",
       "    <tr>\n",
       "      <th>Arlington</th>\n",
       "      <td>4</td>\n",
       "      <td>7</td>\n",
       "      <td>2,702</td>\n",
       "      <td>3,203</td>\n",
       "      <td>4,430</td>\n",
       "      <td>3,949</td>\n",
       "      <td>2,294</td>\n",
       "      <td>2,210</td>\n",
       "      <td>1,999</td>\n",
       "      <td>1,869</td>\n",
       "      <td>...</td>\n",
       "      <td>0.37%</td>\n",
       "      <td>76.46%</td>\n",
       "      <td>0.0316</td>\n",
       "      <td>0.014</td>\n",
       "      <td>0.0691</td>\n",
       "      <td>0.1889</td>\n",
       "      <td>0.1945</td>\n",
       "      <td>0.3153</td>\n",
       "      <td>0.0888</td>\n",
       "      <td>0.1433</td>\n",
       "    </tr>\n",
       "    <tr>\n",
       "      <th>Arlington Heights</th>\n",
       "      <td>5</td>\n",
       "      <td>7</td>\n",
       "      <td>2,413</td>\n",
       "      <td>2,860</td>\n",
       "      <td>2,272</td>\n",
       "      <td>2,037</td>\n",
       "      <td>1,466</td>\n",
       "      <td>1,497</td>\n",
       "      <td>238</td>\n",
       "      <td>244</td>\n",
       "      <td>...</td>\n",
       "      <td>1.64%</td>\n",
       "      <td>9.43%</td>\n",
       "      <td>0.0492</td>\n",
       "      <td>0.008</td>\n",
       "      <td>0.0410</td>\n",
       "      <td>0.3925</td>\n",
       "      <td>0.1638</td>\n",
       "      <td>0.3072</td>\n",
       "      <td>0.0341</td>\n",
       "      <td>0.0614</td>\n",
       "    </tr>\n",
       "    <tr>\n",
       "      <th>...</th>\n",
       "      <td>...</td>\n",
       "      <td>...</td>\n",
       "      <td>...</td>\n",
       "      <td>...</td>\n",
       "      <td>...</td>\n",
       "      <td>...</td>\n",
       "      <td>...</td>\n",
       "      <td>...</td>\n",
       "      <td>...</td>\n",
       "      <td>...</td>\n",
       "      <td>...</td>\n",
       "      <td>...</td>\n",
       "      <td>...</td>\n",
       "      <td>...</td>\n",
       "      <td>...</td>\n",
       "      <td>...</td>\n",
       "      <td>...</td>\n",
       "      <td>...</td>\n",
       "      <td>...</td>\n",
       "      <td>...</td>\n",
       "      <td>...</td>\n",
       "    </tr>\n",
       "    <tr>\n",
       "      <th>Upper Lawrenceville</th>\n",
       "      <td>86</td>\n",
       "      <td>13</td>\n",
       "      <td>6,848</td>\n",
       "      <td>6,164</td>\n",
       "      <td>5,221</td>\n",
       "      <td>4,482</td>\n",
       "      <td>3,710</td>\n",
       "      <td>3,328</td>\n",
       "      <td>2,899</td>\n",
       "      <td>2,669</td>\n",
       "      <td>...</td>\n",
       "      <td>1.80%</td>\n",
       "      <td>65.72%</td>\n",
       "      <td>0.0296</td>\n",
       "      <td>0.031</td>\n",
       "      <td>0.0643</td>\n",
       "      <td>0.2217</td>\n",
       "      <td>0.2448</td>\n",
       "      <td>0.2957</td>\n",
       "      <td>0.1194</td>\n",
       "      <td>0.0540</td>\n",
       "    </tr>\n",
       "    <tr>\n",
       "      <th>West End</th>\n",
       "      <td>87</td>\n",
       "      <td>4</td>\n",
       "      <td>1,984</td>\n",
       "      <td>1,820</td>\n",
       "      <td>1,702</td>\n",
       "      <td>920</td>\n",
       "      <td>604</td>\n",
       "      <td>441</td>\n",
       "      <td>466</td>\n",
       "      <td>254</td>\n",
       "      <td>...</td>\n",
       "      <td>1.18%</td>\n",
       "      <td>53.15%</td>\n",
       "      <td>0.0748</td>\n",
       "      <td>0.004</td>\n",
       "      <td>0.0000</td>\n",
       "      <td>0.2586</td>\n",
       "      <td>0.2931</td>\n",
       "      <td>0.0862</td>\n",
       "      <td>0.2672</td>\n",
       "      <td>0.0948</td>\n",
       "    </tr>\n",
       "    <tr>\n",
       "      <th>West Oakland</th>\n",
       "      <td>88</td>\n",
       "      <td>14</td>\n",
       "      <td>2,952</td>\n",
       "      <td>4,073</td>\n",
       "      <td>3,658</td>\n",
       "      <td>3,140</td>\n",
       "      <td>2,955</td>\n",
       "      <td>1,938</td>\n",
       "      <td>2,272</td>\n",
       "      <td>2,604</td>\n",
       "      <td>...</td>\n",
       "      <td>0.50%</td>\n",
       "      <td>52.73%</td>\n",
       "      <td>0.0177</td>\n",
       "      <td>0.023</td>\n",
       "      <td>0.0193</td>\n",
       "      <td>0.3886</td>\n",
       "      <td>0.2938</td>\n",
       "      <td>0.1701</td>\n",
       "      <td>0.0806</td>\n",
       "      <td>0.0476</td>\n",
       "    </tr>\n",
       "    <tr>\n",
       "      <th>Westwood</th>\n",
       "      <td>89</td>\n",
       "      <td>4</td>\n",
       "      <td>2,448</td>\n",
       "      <td>2,630</td>\n",
       "      <td>3,956</td>\n",
       "      <td>4,603</td>\n",
       "      <td>3,611</td>\n",
       "      <td>3,282</td>\n",
       "      <td>3,093</td>\n",
       "      <td>3,066</td>\n",
       "      <td>...</td>\n",
       "      <td>0.68%</td>\n",
       "      <td>82.68%</td>\n",
       "      <td>0.0280</td>\n",
       "      <td>0.014</td>\n",
       "      <td>0.0509</td>\n",
       "      <td>0.1677</td>\n",
       "      <td>0.2152</td>\n",
       "      <td>0.3820</td>\n",
       "      <td>0.1196</td>\n",
       "      <td>0.0646</td>\n",
       "    </tr>\n",
       "    <tr>\n",
       "      <th>Windgap</th>\n",
       "      <td>90</td>\n",
       "      <td>4</td>\n",
       "      <td>218</td>\n",
       "      <td>740</td>\n",
       "      <td>629</td>\n",
       "      <td>534</td>\n",
       "      <td>1,757</td>\n",
       "      <td>1,603</td>\n",
       "      <td>1,447</td>\n",
       "      <td>1,369</td>\n",
       "      <td>...</td>\n",
       "      <td>0.51%</td>\n",
       "      <td>61.80%</td>\n",
       "      <td>0.0241</td>\n",
       "      <td>0.012</td>\n",
       "      <td>0.0720</td>\n",
       "      <td>0.1283</td>\n",
       "      <td>0.1493</td>\n",
       "      <td>0.3383</td>\n",
       "      <td>0.2131</td>\n",
       "      <td>0.0990</td>\n",
       "    </tr>\n",
       "  </tbody>\n",
       "</table>\n",
       "<p>90 rows × 34 columns</p>\n",
       "</div>"
      ],
      "text/plain": [
       "                     _id  Sector # Pop. 1940 Pop. 1950 Pop. 1960 Pop. 1970  \\\n",
       "Neighborhood                                                                 \n",
       "Allegheny Center       1         3     4,521     3,862     2,512       632   \n",
       "Allegheny West         2         3     3,210     3,313     2,170     1,124   \n",
       "Allentown              3         6     8,227     7,487     6,416     5,361   \n",
       "Arlington              4         7     2,702     3,203     4,430     3,949   \n",
       "Arlington Heights      5         7     2,413     2,860     2,272     2,037   \n",
       "...                  ...       ...       ...       ...       ...       ...   \n",
       "Upper Lawrenceville   86        13     6,848     6,164     5,221     4,482   \n",
       "West End              87         4     1,984     1,820     1,702       920   \n",
       "West Oakland          88        14     2,952     4,073     3,658     3,140   \n",
       "Westwood              89         4     2,448     2,630     3,956     4,603   \n",
       "Windgap               90         4       218       740       629       534   \n",
       "\n",
       "                    Pop. 1980 Pop. 1990 Pop. 2000 Pop. 2010  ...  \\\n",
       "Neighborhood                                                 ...   \n",
       "Allegheny Center        1,586     1,262       886       933  ...   \n",
       "Allegheny West            820       654       508       462  ...   \n",
       "Allentown               4,292     3,600     3,220     2,500  ...   \n",
       "Arlington               2,294     2,210     1,999     1,869  ...   \n",
       "Arlington Heights       1,466     1,497       238       244  ...   \n",
       "...                       ...       ...       ...       ...  ...   \n",
       "Upper Lawrenceville     3,710     3,328     2,899     2,669  ...   \n",
       "West End                  604       441       466       254  ...   \n",
       "West Oakland            2,955     1,938     2,272     2,604  ...   \n",
       "Westwood                3,611     3,282     3,093     3,066  ...   \n",
       "Windgap                 1,757     1,603     1,447     1,369  ...   \n",
       "\n",
       "                    % Other (2010) % White (2010) % 2+ Races (2010)  \\\n",
       "Neighborhood                                                          \n",
       "Allegheny Center             0.64%         40.84%            0.0397   \n",
       "Allegheny West               0.65%         76.62%            0.0303   \n",
       "Allentown                    0.80%         59.40%            0.0464   \n",
       "Arlington                    0.37%         76.46%            0.0316   \n",
       "Arlington Heights            1.64%          9.43%            0.0492   \n",
       "...                            ...            ...               ...   \n",
       "Upper Lawrenceville          1.80%         65.72%            0.0296   \n",
       "West End                     1.18%         53.15%            0.0748   \n",
       "West Oakland                 0.50%         52.73%            0.0177   \n",
       "Westwood                     0.68%         82.68%            0.0280   \n",
       "Windgap                      0.51%         61.80%            0.0241   \n",
       "\n",
       "                    % Hispanic (of any race) (2010) % Pop. Age < 5 (2010)  \\\n",
       "Neighborhood                                                                \n",
       "Allegheny Center                              0.029                0.0419   \n",
       "Allegheny West                                0.028                0.0000   \n",
       "Allentown                                     0.023                0.0366   \n",
       "Arlington                                     0.014                0.0691   \n",
       "Arlington Heights                             0.008                0.0410   \n",
       "...                                             ...                   ...   \n",
       "Upper Lawrenceville                           0.031                0.0643   \n",
       "West End                                      0.004                0.0000   \n",
       "West Oakland                                  0.023                0.0193   \n",
       "Westwood                                      0.014                0.0509   \n",
       "Windgap                                       0.012                0.0720   \n",
       "\n",
       "                    % Pop. Age 5-19 (2010)  % Pop. Age 20-34 (2010)  \\\n",
       "Neighborhood                                                          \n",
       "Allegheny Center                    0.2170                   0.2757   \n",
       "Allegheny West                      0.0000                   0.0837   \n",
       "Allentown                           0.1485                   0.2411   \n",
       "Arlington                           0.1889                   0.1945   \n",
       "Arlington Heights                   0.3925                   0.1638   \n",
       "...                                    ...                      ...   \n",
       "Upper Lawrenceville                 0.2217                   0.2448   \n",
       "West End                            0.2586                   0.2931   \n",
       "West Oakland                        0.3886                   0.2938   \n",
       "Westwood                            0.1677                   0.2152   \n",
       "Windgap                             0.1283                   0.1493   \n",
       "\n",
       "                    % Pop. Age 35-59 (2010) % Pop. Age 60-74 (2010)  \\\n",
       "Neighborhood                                                          \n",
       "Allegheny Center                     0.2243                  0.1761   \n",
       "Allegheny West                       0.6820                  0.1255   \n",
       "Allentown                            0.3530                  0.1440   \n",
       "Arlington                            0.3153                  0.0888   \n",
       "Arlington Heights                    0.3072                  0.0341   \n",
       "...                                     ...                     ...   \n",
       "Upper Lawrenceville                  0.2957                  0.1194   \n",
       "West End                             0.0862                  0.2672   \n",
       "West Oakland                         0.1701                  0.0806   \n",
       "Westwood                             0.3820                  0.1196   \n",
       "Windgap                              0.3383                  0.2131   \n",
       "\n",
       "                    % Pop. Age > 75 (2010)  \n",
       "Neighborhood                                \n",
       "Allegheny Center                    0.0650  \n",
       "Allegheny West                      0.1088  \n",
       "Allentown                           0.0767  \n",
       "Arlington                           0.1433  \n",
       "Arlington Heights                   0.0614  \n",
       "...                                    ...  \n",
       "Upper Lawrenceville                 0.0540  \n",
       "West End                            0.0948  \n",
       "West Oakland                        0.0476  \n",
       "Westwood                            0.0646  \n",
       "Windgap                             0.0990  \n",
       "\n",
       "[90 rows x 34 columns]"
      ]
     },
     "execution_count": 20,
     "metadata": {},
     "output_type": "execute_result"
    }
   ],
   "source": [
    "data = pd.read_csv(\"popdens.csv\", index_col=\"Neighborhood\")\n",
    "data.iloc[:]"
   ]
  },
  {
   "cell_type": "markdown",
   "metadata": {},
   "source": [
    "As you can see, this is **way** too much information to process. Seeing as we only need the top ten neighborhoods with the highest population densities, let's do some filtering, shall we?"
   ]
  },
  {
   "cell_type": "markdown",
   "metadata": {},
   "source": [
    "![lets get started](https://media.giphy.com/media/3o6nUSKuNDSTj3NRBK/giphy.gif?cid=ecf05e474as4rnsu5ebpxsdsjrshkue70487kog2ys58cu2o&ep=v1_gifs_search&rid=giphy.gif&ct=g)"
   ]
  },
  {
   "cell_type": "markdown",
   "metadata": {},
   "source": [
    "Alright, first order of business, let's get rid of all that extra information about the neighborhoods."
   ]
  },
  {
   "cell_type": "code",
   "execution_count": 21,
   "metadata": {},
   "outputs": [
    {
     "data": {
      "text/plain": [
       "Neighborhood\n",
       "Allegheny Center        4,442.9\n",
       "Allegheny West          3,276.6\n",
       "Allentown               8,474.6\n",
       "Arlington               3,976.6\n",
       "Arlington Heights       1,848.5\n",
       "                         ...   \n",
       "Upper Lawrenceville     6,590.1\n",
       "West End                1,270.0\n",
       "West Oakland           12,111.6\n",
       "Westwood                4,430.6\n",
       "Windgap                 3,298.8\n",
       "Name: Persons / sq. mi (2010), Length: 90, dtype: object"
      ]
     },
     "execution_count": 21,
     "metadata": {},
     "output_type": "execute_result"
    }
   ],
   "source": [
    "data.iloc[:, 18]"
   ]
  },
  {
   "cell_type": "markdown",
   "metadata": {},
   "source": [
    "Cool, we did it! Now only the neighborhood and its population density is shown.\n",
    "\n",
    "... but this is still way too much to even display. \n",
    "\n",
    "Let's pick the top 10 out and plot."
   ]
  },
  {
   "cell_type": "code",
   "execution_count": 22,
   "metadata": {},
   "outputs": [
    {
     "data": {
      "text/plain": [
       "Neighborhood\n",
       "Terrace Village        9,438.6\n",
       "Greenfield             9,436.0\n",
       "Squirrel Hill North    9,298.7\n",
       "East Allegheny         9,050.8\n",
       "South Shore               89.6\n",
       "Morningside            8,759.2\n",
       "Crawford-Roberts       8,744.2\n",
       "Allentown              8,474.6\n",
       "Garfield               8,041.6\n",
       "Mount Washington       7,718.4\n",
       "Name: Persons / sq. mi (2010), dtype: object"
      ]
     },
     "execution_count": 22,
     "metadata": {},
     "output_type": "execute_result"
    }
   ],
   "source": [
    "data = data.sort_values(by='Persons / sq. mi (2010)', ascending=False)\n",
    "data.iloc[:10, 18]"
   ]
  },
  {
   "cell_type": "code",
   "execution_count": 23,
   "metadata": {},
   "outputs": [
    {
     "data": {
      "text/plain": [
       "([0, 1, 2, 3, 4, 5, 6, 7, 8, 9], <a list of 10 Text major ticklabel objects>)"
      ]
     },
     "execution_count": 23,
     "metadata": {},
     "output_type": "execute_result"
    },
    {
     "data": {
      "image/png": "[encoded data removed]",
      "text/plain": [
       "<Figure size 720x432 with 1 Axes>"
      ]
     },
     "metadata": {
      "needs_background": "light"
     },
     "output_type": "display_data"
    }
   ],
   "source": [
    "import matplotlib.pyplot as plt\n",
    "\n",
    "top_10_neighborhoods = data.head(10)\n",
    "\n",
    "plt.figure(figsize=(10, 6))\n",
    "plt.bar(top_10_neighborhoods.index, top_10_neighborhoods['Persons / sq. mi (2010)'], color='skyblue')\n",
    "plt.xlabel('Neighborhood')\n",
    "plt.ylabel('Population Density (Persons / sq. mi)')\n",
    "plt.title('Top 10 Neighborhoods with Greatest Population Densities')\n",
    "plt.xticks(rotation=45, ha='right')"
   ]
  },
  {
   "cell_type": "markdown",
   "metadata": {},
   "source": [
    "Gee, that was a lot of work...\n",
    "\n",
    "but we finally got an answer, drumroll please."
   ]
  },
  {
   "cell_type": "markdown",
   "metadata": {},
   "source": [
    "![drumroll please](https://media.giphy.com/media/1uWiwCWIZo6yYvLlTE/giphy.gif?cid=790b7611p5qgj0i2995owosuyldize3tt14s8ivmpye1dglo&ep=v1_gifs_search&rid=giphy.gif&ct=g)"
   ]
  },
  {
   "cell_type": "markdown",
   "metadata": {},
   "source": [
    "The \"best\" neighborhood in Pittsburgh is...\n",
    "\n",
    "**CENTRAL OAKLAND**\n",
    "\n",
    "...what a surprise"
   ]
  },
  {
   "cell_type": "markdown",
   "metadata": {},
   "source": [
    "# in conclusion"
   ]
  },
  {
   "cell_type": "markdown",
   "metadata": {},
   "source": [
    "Because the South Side Flats are in between l"
   ]
  }
 ],
 "metadata": {
  "kernelspec": {
   "display_name": "Python 3",
   "language": "python",
   "name": "python3"
  },
  "language_info": {
   "codemirror_mode": {
    "name": "ipython",
    "version": 3
   },
   "file_extension": ".py",
   "mimetype": "text/x-python",
   "name": "python",
   "nbconvert_exporter": "python",
   "pygments_lexer": "ipython3",
   "version": "3.8.3"
  }
 },
 "nbformat": 4,
 "nbformat_minor": 4
}
